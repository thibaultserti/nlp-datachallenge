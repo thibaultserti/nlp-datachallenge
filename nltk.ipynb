{
 "cells": [
  {
   "cell_type": "code",
   "execution_count": 24,
   "metadata": {},
   "outputs": [],
   "source": [
    "import pandas as pd\n",
    "from IPython.display import display\n",
    "import seaborn as sns\n",
    "import matplotlib.pyplot as plt\n",
    "import numpy as np\n",
    "from sklearn.svm import SVC"
   ]
  },
  {
   "cell_type": "code",
   "execution_count": 152,
   "metadata": {},
   "outputs": [
    {
     "name": "stderr",
     "output_type": "stream",
     "text": [
      "[nltk_data] Downloading package wordnet to /home/wall-e/nltk_data...\n",
      "[nltk_data]   Package wordnet is already up-to-date!\n",
      "[nltk_data] Downloading package stopwords to /home/wall-e/nltk_data...\n",
      "[nltk_data]   Package stopwords is already up-to-date!\n"
     ]
    }
   ],
   "source": [
    "#Data Preprocessing and Feature Engineering\n",
    "from textblob import TextBlob\n",
    "import re\n",
    "import nltk\n",
    "nltk.download('wordnet')\n",
    "nltk.download('stopwords')\n",
    "from nltk.corpus import stopwords\n",
    "from nltk.stem.wordnet import WordNetLemmatizer\n",
    "import unidecode\n",
    "from sklearn.feature_extraction.text import CountVectorizer, TfidfTransformer"
   ]
  },
  {
   "cell_type": "code",
   "execution_count": 123,
   "metadata": {},
   "outputs": [],
   "source": [
    "#Model Selection and Validation\n",
    "from sklearn.naive_bayes import MultinomialNB\n",
    "from sklearn.ensemble import RandomForestClassifier\n",
    "from sklearn.naive_bayes import GaussianNB\n",
    "from sklearn.model_selection import train_test_split\n",
    "from sklearn.pipeline import Pipeline\n",
    "from sklearn.metrics import confusion_matrix, classification_report,accuracy_score"
   ]
  },
  {
   "cell_type": "code",
   "execution_count": 4,
   "metadata": {},
   "outputs": [],
   "source": [
    "dataset = pd.read_csv(\"./Dataset/X_train.csv\", sep=\",\")\n",
    "dataset_test = pd.read_csv(\"./Dataset/X_test.csv\", sep=\",\")\n",
    "\n",
    "X_train = dataset[\"Caption\"]\n",
    "categories = dataset[[\"Id\", \"category_1\", \"category_2\", \"category_3\", \"category_4\"]]\n",
    "\n",
    "# output corresponding to the category 1 (does the answer belongs to cat 1)\n",
    "y_train1 = dataset[\"category_1\"]\n",
    "y_train2 = dataset[\"category_2\"]\n",
    "y_train3 = dataset[\"category_3\"]\n",
    "y_train4 = dataset[\"category_4\"]"
   ]
  },
  {
   "cell_type": "code",
   "execution_count": 5,
   "metadata": {},
   "outputs": [
    {
     "name": "stdout",
     "output_type": "stream",
     "text": [
      "Fraction of 1 in category 1: 0.27835051546391754\n",
      "Fraction of 1 in category 2: 0.354639175257732\n",
      "Fraction of 1 in category 3: 0.488659793814433\n",
      "Fraction of 1 in category 4: 0.11752577319587629\n"
     ]
    }
   ],
   "source": [
    "print(f\"Fraction of 1 in category 1: {sum(y_train1) / y_train1.shape[0]}\")\n",
    "print(f\"Fraction of 1 in category 2: {sum(y_train2) / y_train2.shape[0]}\")\n",
    "print(f\"Fraction of 1 in category 3: {sum(y_train3) / y_train3.shape[0]}\")\n",
    "print(f\"Fraction of 1 in category 4: {sum(y_train4) / y_train4.shape[0]}\")"
   ]
  },
  {
   "cell_type": "code",
   "execution_count": 6,
   "metadata": {},
   "outputs": [
    {
     "name": "stderr",
     "output_type": "stream",
     "text": [
      "/home/wall-e/anaconda3/lib/python3.8/site-packages/pandas/core/frame.py:4125: SettingWithCopyWarning: \n",
      "A value is trying to be set on a copy of a slice from a DataFrame\n",
      "\n",
      "See the caveats in the documentation: https://pandas.pydata.org/pandas-docs/stable/user_guide/indexing.html#returning-a-view-versus-a-copy\n",
      "  return super().rename(\n"
     ]
    },
    {
     "data": {
      "image/png": "[encoded data removed]",
      "text/plain": [
       "<Figure size 432x288 with 1 Axes>"
      ]
     },
     "metadata": {
      "needs_background": "light"
     },
     "output_type": "display_data"
    }
   ],
   "source": [
    "categories.rename(\n",
    "    columns={\n",
    "        \"category_1\": \"Fear for oneself\",\n",
    "        \"category_2\": \"Fear for others\",\n",
    "        \"category_3\": \"Fear for society\",\n",
    "        \"category_4\": \"Other\"\n",
    "    },\n",
    "    inplace=True,\n",
    ")\n",
    "\n",
    "df = pd.melt(\n",
    "    categories,\n",
    "    id_vars=[\"Id\"],\n",
    "    value_vars=[\"Fear for oneself\", \"Fear for others\", \"Fear for society\", \"Other\"],\n",
    "    var_name=\"Category\",\n",
    ")\n",
    "df = df[df[\"value\"] == 1]\n",
    "\n",
    "#g = sns.set_theme(style=\"darkgrid\")\n",
    "sns.countplot(data=df, y=\"Category\")\n",
    "plt.show()"
   ]
  },
  {
   "cell_type": "code",
   "execution_count": 168,
   "metadata": {},
   "outputs": [
    {
     "name": "stdout",
     "output_type": "stream",
     "text": [
      "la reprise en plusieurs étapes de la pandémie la crise économique et sociale en particulier chez les plus demunis\n",
      "la reprise en plusieurs étapes de la pandémie\n",
      " la crise économique et sociale, en particulier chez les plus d&munis\n"
     ]
    }
   ],
   "source": [
    "def form_sentence(text):\n",
    "    text = text.replace(\"&\", \"e\")\n",
    "    blob = TextBlob(text)\n",
    "    return ' '.join(blob.words)\n",
    "\n",
    "print(form_sentence(dataset['Caption'].iloc[10]))\n",
    "print(dataset['Caption'].iloc[10])"
   ]
  },
  {
   "cell_type": "code",
   "execution_count": 169,
   "metadata": {},
   "outputs": [
    {
     "name": "stdout",
     "output_type": "stream",
     "text": [
      "['reprise', 'plusieurs', 'etapes', 'pandemie', 'crise', 'economique', 'sociale', 'particulier', 'chez', 'plus', 'demunis']\n",
      "la reprise en plusieurs étapes de la pandémie\n",
      " la crise économique et sociale, en particulier chez les plus d&munis\n"
     ]
    }
   ],
   "source": [
    "def no_user_alpha(text):\n",
    "    text_list = [ele for ele in text.split() if ele != 'user']\n",
    "    text_list = [unidecode.unidecode(ele) for ele in text_list]\n",
    "    clean_tokens = [t for t in text_list if re.match(r'[^\\W\\d]*$', t)]\n",
    "    clean_s = ' '.join(clean_tokens)\n",
    "    clean_mess = [word for word in clean_s.split() if word.lower() not in stopwords.words('french')]\n",
    "    return clean_mess\n",
    "print(no_user_alpha(form_sentence(dataset['Caption'].iloc[10])))\n",
    "print(dataset['Caption'].iloc[10])"
   ]
  },
  {
   "cell_type": "code",
   "execution_count": 170,
   "metadata": {},
   "outputs": [],
   "source": [
    "def normalization(text_list):\n",
    "        lem = WordNetLemmatizer()\n",
    "        normalized_caption = []\n",
    "        for word in text_list:\n",
    "            normalized_text = lem.lemmatize(word,'v')\n",
    "            normalized_caption.append(normalized_text)\n",
    "        return normalized_caption"
   ]
  },
  {
   "cell_type": "code",
   "execution_count": 171,
   "metadata": {},
   "outputs": [],
   "source": [
    "def text_processing(text):\n",
    "    return normalization(no_user_alpha(form_sentence(text)))"
   ]
  },
  {
   "cell_type": "code",
   "execution_count": 199,
   "metadata": {},
   "outputs": [],
   "source": [
    "def predict_for_cat(category):\n",
    "    msg_train, msg_test, label_train, label_test = train_test_split(dataset['Caption'], dataset[category], test_size=0.001, random_state=0)\n",
    "    pipeline = Pipeline([\n",
    "        ('bow',CountVectorizer(analyzer=text_processing)),  # strings to token integer counts\n",
    "        ('tfidf', TfidfTransformer()),  # integer counts to weighted TF-IDF scores\n",
    "        ('classifier', SVC(C=1.6, kernel='linear',random_state=2)),  # train on TF-IDF vectors w/ SVC\n",
    "        #('classifier', RandomForestClassifier(n_estimators=1000, random_state=0)),  # train on TF-IDF vectors w/ SVC\n",
    "    ])\n",
    "    pipeline.fit(msg_train,label_train)\n",
    "    predictions = pipeline.predict(msg_test)\n",
    "    print(classification_report(predictions,label_test))\n",
    "    print(confusion_matrix(predictions,label_test))\n",
    "    print(accuracy_score(predictions,label_test))\n",
    "    return pipeline"
   ]
  },
  {
   "cell_type": "code",
   "execution_count": 200,
   "metadata": {},
   "outputs": [],
   "source": [
    "msg_test = dataset_test['Caption'].squeeze()\n",
    "indexes = dataset_test['Id'].squeeze()"
   ]
  },
  {
   "cell_type": "code",
   "execution_count": 201,
   "metadata": {},
   "outputs": [
    {
     "name": "stdout",
     "output_type": "stream",
     "text": [
      "              precision    recall  f1-score   support\n",
      "\n",
      "           1       1.00      1.00      1.00         1\n",
      "\n",
      "    accuracy                           1.00         1\n",
      "   macro avg       1.00      1.00      1.00         1\n",
      "weighted avg       1.00      1.00      1.00         1\n",
      "\n",
      "[[1]]\n",
      "1.0\n",
      "              precision    recall  f1-score   support\n",
      "\n",
      "           0       1.00      1.00      1.00         1\n",
      "\n",
      "    accuracy                           1.00         1\n",
      "   macro avg       1.00      1.00      1.00         1\n",
      "weighted avg       1.00      1.00      1.00         1\n",
      "\n",
      "[[1]]\n",
      "1.0\n",
      "              precision    recall  f1-score   support\n",
      "\n",
      "           1       1.00      1.00      1.00         1\n",
      "\n",
      "    accuracy                           1.00         1\n",
      "   macro avg       1.00      1.00      1.00         1\n",
      "weighted avg       1.00      1.00      1.00         1\n",
      "\n",
      "[[1]]\n",
      "1.0\n",
      "              precision    recall  f1-score   support\n",
      "\n",
      "           0       1.00      1.00      1.00         1\n",
      "\n",
      "    accuracy                           1.00         1\n",
      "   macro avg       1.00      1.00      1.00         1\n",
      "weighted avg       1.00      1.00      1.00         1\n",
      "\n",
      "[[1]]\n",
      "1.0\n"
     ]
    }
   ],
   "source": [
    "model1 = predict_for_cat('category_1')\n",
    "model2 = predict_for_cat('category_2')\n",
    "model3 = predict_for_cat('category_3')\n",
    "model4 = predict_for_cat('category_4')\n",
    "\n",
    "predict1 = model1.predict(msg_test)\n",
    "predict2 = model2.predict(msg_test)\n",
    "predict3 = model3.predict(msg_test)\n",
    "predict4 = model4.predict(msg_test)"
   ]
  },
  {
   "cell_type": "code",
   "execution_count": 202,
   "metadata": {},
   "outputs": [],
   "source": [
    "with open('submission.csv','w') as f:\n",
    "    f.write('Id,category_1,category_2,category_3,category_4\\n')\n",
    "    for i in range(len(predict1)):\n",
    "        f.write(f\"{indexes[i]},{predict1[i]},{predict2[i]},{predict3[i]},{predict4[i]}\\n\")"
   ]
  },
  {
   "cell_type": "code",
   "execution_count": null,
   "metadata": {},
   "outputs": [],
   "source": []
  },
  {
   "cell_type": "code",
   "execution_count": null,
   "metadata": {},
   "outputs": [],
   "source": []
  }
 ],
 "metadata": {
  "kernelspec": {
   "display_name": "Python 3",
   "language": "python",
   "name": "python3"
  },
  "language_info": {
   "codemirror_mode": {
    "name": "ipython",
    "version": 3
   },
   "file_extension": ".py",
   "mimetype": "text/x-python",
   "name": "python",
   "nbconvert_exporter": "python",
   "pygments_lexer": "ipython3",
   "version": "3.8.3"
  }
 },
 "nbformat": 4,
 "nbformat_minor": 4
}
